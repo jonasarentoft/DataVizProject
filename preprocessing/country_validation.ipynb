{
 "cells": [
  {
   "cell_type": "code",
   "execution_count": 150,
   "metadata": {},
   "outputs": [],
   "source": [
    "import pandas as pd\n",
    "import numpy as np\n",
    "from geopy.geocoders import OpenCage\n",
    "from geopy.geocoders import Nominatim\n",
    "from geopy.exc import GeocoderTimedOut"
   ]
  },
  {
   "cell_type": "code",
   "execution_count": 151,
   "metadata": {},
   "outputs": [],
   "source": [
    "df = pd.read_csv('../data/plane_crash_coordinatesV2.csv', encoding='unicode_escape', index_col = 0)\n",
    "df.replace(\"''\", np.nan, inplace=True)\n",
    "df.dropna(subset = ['Latitude'], inplace=True)\n",
    "df['Location'] = df['Location'].str.replace('Near', '').str.replace('Off', '').str.replace('Over the', '').str.strip()"
   ]
  },
  {
   "cell_type": "code",
   "execution_count": 152,
   "metadata": {},
   "outputs": [],
   "source": [
    "def extract_country(location):\n",
    "    parts = location.split(', ')\n",
    "    if len(parts) > 1:\n",
    "        return parts[-1]\n",
    "    else:\n",
    "        return location\n",
    "\n",
    "# Apply the function to the 'location' column and store the result in a new column 'country'\n",
    "df['Country'] = df['Location'].apply(extract_country)\n",
    "\n",
    "# Define a list of all US states\n",
    "us_states = [\n",
    "    'Alabama', 'Alaska', 'Arizona', 'Arkansas', 'California', 'Colorado', 'Connecticut', 'Delaware', 'Florida',\n",
    "    'Georgia', 'Hawaii', 'Idaho', 'Illinois', 'Indiana', 'Iowa', 'Kansas', 'Kentucky', 'Louisiana', 'Maine',\n",
    "    'Maryland', 'Massachusetts', 'Michigan', 'Minnesota', 'Mississippi', 'Missouri', 'Montana', 'Nebraska', 'Nevada',\n",
    "    'New Hampshire', 'New Jersey', 'New Mexico', 'New York', 'North Carolina', 'North Dakota', 'Ohio', 'Oklahoma',\n",
    "    'Oregon', 'Pennsylvania', 'Rhode Island', 'South Carolina', 'South Dakota', 'Tennessee', 'Texas', 'Utah',\n",
    "    'Vermont', 'Virginia', 'Washington', 'West Virginia', 'Wisconsin', 'Wyoming'\n",
    "]\n",
    "# Replace US states with 'United States' in the 'Country' column\n",
    "df['Country'] = df['Country'].apply(lambda x: 'United States' if x in us_states else x)\n",
    "df['Country'] = df['Country'].replace('England', 'United Kingdom')\n",
    "df['Country'] = df['Country'].replace('Bulgeria', 'Bulgaria')"
   ]
  },
  {
   "cell_type": "code",
   "execution_count": 153,
   "metadata": {},
   "outputs": [],
   "source": [
    "# Api key\n",
    "api_key = \"b7b37c7b2c7f49f69d03541f1abd4555\""
   ]
  },
  {
   "cell_type": "code",
   "execution_count": 154,
   "metadata": {},
   "outputs": [],
   "source": [
    "def get_country_name(lat, lon, api_key):\n",
    "    geolocator = OpenCage(api_key=api_key)\n",
    "    \n",
    "    try:\n",
    "        location = geolocator.reverse((lat, lon), exactly_one=True)\n",
    "        country = location.raw['components']['country']\n",
    "        return country\n",
    "    except GeocoderTimedOut:\n",
    "        # Handle timeouts or errors as needed\n",
    "        return None\n"
   ]
  },
  {
   "cell_type": "code",
   "execution_count": 156,
   "metadata": {},
   "outputs": [],
   "source": [
    "#geolocator = Nominatim(user_agent=\"your_app_name\")  # Replace with your app name\n",
    "\n",
    "def get_country(latitude, longitude):\n",
    "    s = 0\n",
    "    hej = \"your_name\"+str(s)\n",
    "    geolocator = Nominatim(user_agent=hej)\n",
    "        \n",
    "    location = None\n",
    "    try:\n",
    "        location = geolocator.reverse((latitude, longitude), language='en')\n",
    "        s += 1\n",
    "        \n",
    "    except GeocoderTimedOut:\n",
    "        print(\"Geocoding request timed out. Please try again.\")\n",
    "\n",
    "    if location:\n",
    "        address = location.raw.get('address', {})\n",
    "        country = address.get('country', '')\n",
    "        return country\n",
    "    else:\n",
    "        return None\n",
    "        \n",
    "\n",
    "\n",
    "# Create a new 'country' column\n",
    "df['Country coordinates'] = df.apply(lambda row: get_country(row['Latitude'], row['Longitude']), axis=1)\n"
   ]
  },
  {
   "cell_type": "code",
   "execution_count": 157,
   "metadata": {},
   "outputs": [],
   "source": [
    "# Create a new column based on comparison\n",
    "df['Location_Status'] = df.apply(lambda row: 'correct location' if row['Country'] == row['Country coordinates'] else 'not correct location', axis=1)"
   ]
  },
  {
   "cell_type": "code",
   "execution_count": 158,
   "metadata": {},
   "outputs": [
    {
     "data": {
      "text/plain": [
       "(array(['correct location', 'not correct location'], dtype=object),\n",
       " array([3083, 1435]))"
      ]
     },
     "execution_count": 158,
     "metadata": {},
     "output_type": "execute_result"
    }
   ],
   "source": [
    "np.unique(df['Location_Status'], return_counts=True)\n"
   ]
  },
  {
   "cell_type": "code",
   "execution_count": 159,
   "metadata": {},
   "outputs": [],
   "source": [
    "df.to_csv('../data/plane_crash_coordinatesV5.csv')\n"
   ]
  },
  {
   "cell_type": "code",
   "execution_count": null,
   "metadata": {},
   "outputs": [],
   "source": []
  },
  {
   "cell_type": "code",
   "execution_count": null,
   "metadata": {},
   "outputs": [],
   "source": []
  },
  {
   "cell_type": "code",
   "execution_count": null,
   "metadata": {},
   "outputs": [],
   "source": []
  }
 ],
 "metadata": {
  "kernelspec": {
   "display_name": "slml",
   "language": "python",
   "name": "python3"
  },
  "language_info": {
   "codemirror_mode": {
    "name": "ipython",
    "version": 3
   },
   "file_extension": ".py",
   "mimetype": "text/x-python",
   "name": "python",
   "nbconvert_exporter": "python",
   "pygments_lexer": "ipython3",
   "version": "3.7.11"
  }
 },
 "nbformat": 4,
 "nbformat_minor": 2
}
