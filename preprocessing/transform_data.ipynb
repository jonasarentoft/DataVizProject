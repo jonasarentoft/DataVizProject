{
 "cells": [
  {
   "cell_type": "code",
   "execution_count": 7,
   "metadata": {},
   "outputs": [],
   "source": [
    "import csv\n",
    "\n",
    "# Function to transform a CSV file to a list of dictionaries\n",
    "def csv_to_list_of_dicts(csv_file):\n",
    "    data_list = []\n",
    "    \n",
    "    with open(csv_file, 'r', encoding='utf-8') as file:\n",
    "        csv_reader = csv.DictReader(file)\n",
    "        # Skip the first row (header with column names)\n",
    "        next(csv_reader, None)\n",
    "        \n",
    "        for row in csv_reader:\n",
    "            # Assuming your CSV has the specified column names\n",
    "            data_point = {\n",
    "                \"Date\": row.get('Date', None),\n",
    "                \"Time\": row.get('Time', None),\n",
    "                \"Location\": row.get('Location', None),\n",
    "                \"Operator\": row.get('Operator', None),\n",
    "                \"Flight\": row.get('Flight..', None),\n",
    "                \"Route\": row.get('Route', None),\n",
    "                \"AC.Type\": row.get('AC.Type', None),\n",
    "                \"Registration\": row.get('Registration', None),\n",
    "                \"cn.ln\": row.get('cn.ln', None),\n",
    "                \"Aboard\": row.get('Aboard', None),\n",
    "                \"Aboard.Passangers\": row.get('Aboard.Passangers', None),\n",
    "                \"Aboard.Crew\": row.get('Aboard.Crew', None),\n",
    "                \"Fatalities\": row.get('Fatalities', None),\n",
    "                \"Fatalities.Passangers\": row.get('Fatalities.Passangers', None),\n",
    "                \"Fatalities.Crew\": row.get('Fatalities.Crew', None),\n",
    "                \"Ground\": row.get('Ground', None),\n",
    "                \"Summary\": row.get('Summary', None),\n",
    "                \"Coordinates\": row.get('Coordinates', None)\n",
    "            }\n",
    "            data_list.append(data_point)\n",
    "\n",
    "    return data_list\n",
    "\n"
   ]
  },
  {
   "cell_type": "code",
   "execution_count": 20,
   "metadata": {},
   "outputs": [],
   "source": [
    "csv_file = '../data/plane_crash_coordinates.csv'\n",
    "result = csv_to_list_of_dicts(csv_file)\n",
    "\n",
    "with open('../data/formatted_data.txt', 'w') as file:\n",
    "    \n",
    "    file.write('const data = {')\n",
    "    file.write('table: ')\n",
    "    file.write('[')\n",
    "    \n",
    "    for item in result:\n",
    "        file.write(f'{item},\\n')\n",
    "    \n",
    "    \n",
    "    file.write(']')\n",
    "    file.write('}')\n"
   ]
  },
  {
   "cell_type": "code",
   "execution_count": null,
   "metadata": {},
   "outputs": [],
   "source": []
  }
 ],
 "metadata": {
  "kernelspec": {
   "display_name": "au",
   "language": "python",
   "name": "python3"
  },
  "language_info": {
   "codemirror_mode": {
    "name": "ipython",
    "version": 3
   },
   "file_extension": ".py",
   "mimetype": "text/x-python",
   "name": "python",
   "nbconvert_exporter": "python",
   "pygments_lexer": "ipython3",
   "version": "3.9.15"
  }
 },
 "nbformat": 4,
 "nbformat_minor": 2
}
