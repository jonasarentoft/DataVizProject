{
 "cells": [
  {
   "cell_type": "code",
   "execution_count": 1,
   "metadata": {},
   "outputs": [],
   "source": [
    "import pandas as pd\n",
    "import numpy as np\n",
    "\n",
    "# Sample DataFrame\n",
    "\n",
    "df = pd.read_csv('../data/plane_crash_coordinatesV5.csv', encoding='unicode_escape', index_col = 0)\n",
    "\n",
    "# Function to add noise to columns\n",
    "def add_noise_to_columns(dataframe, columns, noise_scale=0.1):\n",
    "    for col in columns:\n",
    "        noise = np.random.normal(0, noise_scale, size=len(dataframe))\n",
    "        dataframe[col] += noise\n",
    "\n",
    "# Columns to add noise\n",
    "columns_to_add_noise = ['Longitude', 'Latitude']\n",
    "\n",
    "# Adding noise to selected columns\n",
    "add_noise_to_columns(df, columns_to_add_noise, noise_scale=0.1)  # Adjust noise_scale as needed\n",
    "\n",
    "\n",
    "df.to_csv('../data/plane_crash_coordinatesV6.csv')"
   ]
  }
 ],
 "metadata": {
  "kernelspec": {
   "display_name": "Python 3",
   "language": "python",
   "name": "python3"
  },
  "language_info": {
   "codemirror_mode": {
    "name": "ipython",
    "version": 3
   },
   "file_extension": ".py",
   "mimetype": "text/x-python",
   "name": "python",
   "nbconvert_exporter": "python",
   "pygments_lexer": "ipython3",
   "version": "3.9.1"
  }
 },
 "nbformat": 4,
 "nbformat_minor": 2
}
