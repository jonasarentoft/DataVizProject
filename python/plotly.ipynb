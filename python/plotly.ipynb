{
 "cells": [
  {
   "cell_type": "code",
   "execution_count": 1,
   "metadata": {},
   "outputs": [
    {
     "ename": "ModuleNotFoundError",
     "evalue": "No module named 'plotly.express'; 'plotly' is not a package",
     "output_type": "error",
     "traceback": [
      "\u001b[0;31m---------------------------------------------------------------------------\u001b[0m",
      "\u001b[0;31mModuleNotFoundError\u001b[0m                       Traceback (most recent call last)",
      "\u001b[1;32m/Users/jonasarentoft/DataViz/python/plotly.ipynb Cell 1\u001b[0m line \u001b[0;36m1\n\u001b[0;32m----> <a href='vscode-notebook-cell:/Users/jonasarentoft/DataViz/python/plotly.ipynb#W0sZmlsZQ%3D%3D?line=0'>1</a>\u001b[0m \u001b[39mimport\u001b[39;00m \u001b[39mplotly\u001b[39;00m\u001b[39m.\u001b[39;00m\u001b[39mexpress\u001b[39;00m \u001b[39mas\u001b[39;00m \u001b[39mpx\u001b[39;00m\n\u001b[1;32m      <a href='vscode-notebook-cell:/Users/jonasarentoft/DataViz/python/plotly.ipynb#W0sZmlsZQ%3D%3D?line=2'>3</a>\u001b[0m \u001b[39m# Create a world map plot\u001b[39;00m\n\u001b[1;32m      <a href='vscode-notebook-cell:/Users/jonasarentoft/DataViz/python/plotly.ipynb#W0sZmlsZQ%3D%3D?line=3'>4</a>\u001b[0m fig \u001b[39m=\u001b[39m px\u001b[39m.\u001b[39mchoropleth(locations\u001b[39m=\u001b[39m[\u001b[39m\"\u001b[39m\u001b[39mUSA\u001b[39m\u001b[39m\"\u001b[39m, \u001b[39m\"\u001b[39m\u001b[39mCanada\u001b[39m\u001b[39m\"\u001b[39m, \u001b[39m\"\u001b[39m\u001b[39mMexico\u001b[39m\u001b[39m\"\u001b[39m, \u001b[39m\"\u001b[39m\u001b[39mBrazil\u001b[39m\u001b[39m\"\u001b[39m, \u001b[39m\"\u001b[39m\u001b[39mArgentina\u001b[39m\u001b[39m\"\u001b[39m],\n\u001b[1;32m      <a href='vscode-notebook-cell:/Users/jonasarentoft/DataViz/python/plotly.ipynb#W0sZmlsZQ%3D%3D?line=4'>5</a>\u001b[0m                     locationmode\u001b[39m=\u001b[39m\u001b[39m\"\u001b[39m\u001b[39mcountry names\u001b[39m\u001b[39m\"\u001b[39m,\n\u001b[1;32m      <a href='vscode-notebook-cell:/Users/jonasarentoft/DataViz/python/plotly.ipynb#W0sZmlsZQ%3D%3D?line=5'>6</a>\u001b[0m                     labels\u001b[39m=\u001b[39m{\u001b[39m'\u001b[39m\u001b[39mcolor\u001b[39m\u001b[39m'\u001b[39m: \u001b[39m'\u001b[39m\u001b[39mSample Data\u001b[39m\u001b[39m'\u001b[39m},\n\u001b[1;32m      <a href='vscode-notebook-cell:/Users/jonasarentoft/DataViz/python/plotly.ipynb#W0sZmlsZQ%3D%3D?line=6'>7</a>\u001b[0m                     title\u001b[39m=\u001b[39m\u001b[39m'\u001b[39m\u001b[39mWorld Map Example\u001b[39m\u001b[39m'\u001b[39m)\n",
      "File \u001b[0;32m~/DataViz/python/plotly.py:1\u001b[0m\n\u001b[0;32m----> 1\u001b[0m \u001b[39mimport\u001b[39;00m \u001b[39mplotly\u001b[39;00m\u001b[39m.\u001b[39;00m\u001b[39mexpress\u001b[39;00m \u001b[39mas\u001b[39;00m \u001b[39mpx\u001b[39;00m\n\u001b[1;32m      2\u001b[0m fig \u001b[39m=\u001b[39m px\u001b[39m.\u001b[39mbar(x\u001b[39m=\u001b[39m[\u001b[39m\"\u001b[39m\u001b[39ma\u001b[39m\u001b[39m\"\u001b[39m, \u001b[39m\"\u001b[39m\u001b[39mb\u001b[39m\u001b[39m\"\u001b[39m, \u001b[39m\"\u001b[39m\u001b[39mc\u001b[39m\u001b[39m\"\u001b[39m], y\u001b[39m=\u001b[39m[\u001b[39m1\u001b[39m, \u001b[39m3\u001b[39m, \u001b[39m2\u001b[39m])\n\u001b[1;32m      3\u001b[0m fig\u001b[39m.\u001b[39mwrite_html(\u001b[39m'\u001b[39m\u001b[39mfirst_figure.html\u001b[39m\u001b[39m'\u001b[39m, auto_open\u001b[39m=\u001b[39m\u001b[39mTrue\u001b[39;00m)\n",
      "\u001b[0;31mModuleNotFoundError\u001b[0m: No module named 'plotly.express'; 'plotly' is not a package"
     ]
    }
   ],
   "source": [
    "import plotly.express as px\n",
    "\n",
    "# Create a world map plot\n",
    "fig = px.choropleth(locations=[\"USA\", \"Canada\", \"Mexico\", \"Brazil\", \"Argentina\"],\n",
    "                    locationmode=\"country names\",\n",
    "                    labels={'color': 'Sample Data'},\n",
    "                    title='World Map Example')\n",
    "\n",
    "# Show the world map\n",
    "fig.show()\n",
    "\n",
    "fig.write_html('first_figure.html', auto_open=True)"
   ]
  },
  {
   "cell_type": "code",
   "execution_count": null,
   "metadata": {},
   "outputs": [],
   "source": []
  }
 ],
 "metadata": {
  "kernelspec": {
   "display_name": "au",
   "language": "python",
   "name": "python3"
  },
  "language_info": {
   "codemirror_mode": {
    "name": "ipython",
    "version": 3
   },
   "file_extension": ".py",
   "mimetype": "text/x-python",
   "name": "python",
   "nbconvert_exporter": "python",
   "pygments_lexer": "ipython3",
   "version": "3.9.15"
  }
 },
 "nbformat": 4,
 "nbformat_minor": 2
}
