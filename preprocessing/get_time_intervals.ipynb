{
 "cells": [
  {
   "cell_type": "code",
   "execution_count": 34,
   "metadata": {},
   "outputs": [],
   "source": [
    "import pandas as pd\n",
    "\n",
    "df = pd.read_csv(\"../data/plane_crash_coordinatesV3.csv\")"
   ]
  },
  {
   "cell_type": "code",
   "execution_count": null,
   "metadata": {},
   "outputs": [],
   "source": []
  },
  {
   "cell_type": "code",
   "execution_count": 35,
   "metadata": {},
   "outputs": [],
   "source": [
    "df.dropna(subset = ['Time'], inplace = True)\n",
    "\n",
    "time_list = df[\"Time\"]\n",
    "\n",
    "\n",
    "converted_list = []\n",
    "\n",
    "for time_str in time_list:\n",
    "    hour_minute = time_str.split(':')\n",
    "    hour = int(hour_minute[0])\n",
    "    next_hour = hour + 1 if hour < 23 else 0  # Consider the next hour (increment by 1), looping around to 0 for 23:00\n",
    "    \n",
    "    converted_time = f\"{hour:02d}-{next_hour:02d}\"\n",
    "    converted_list.append(converted_time)\n",
    "\n",
    "df[\"Time\"] = converted_list\n"
   ]
  },
  {
   "cell_type": "code",
   "execution_count": 37,
   "metadata": {},
   "outputs": [],
   "source": [
    "df.to_csv(\"../data/plane_crash_coordinatesV4.csv\")"
   ]
  }
 ],
 "metadata": {
  "kernelspec": {
   "display_name": "Python 3",
   "language": "python",
   "name": "python3"
  },
  "language_info": {
   "codemirror_mode": {
    "name": "ipython",
    "version": 3
   },
   "file_extension": ".py",
   "mimetype": "text/x-python",
   "name": "python",
   "nbconvert_exporter": "python",
   "pygments_lexer": "ipython3",
   "version": "3.9.1"
  }
 },
 "nbformat": 4,
 "nbformat_minor": 2
}
